{
  "cells": [
    {
      "cell_type": "markdown",
      "metadata": {
        "id": "XQCO4gChJLpT"
      },
      "source": [
        "### NOMBRE PROYECTO: Describir el Nombre del Proyecto\n",
        "\n",
        "### FECHA: "
      ]
    },
    {
      "cell_type": "markdown",
      "metadata": {
        "id": "azLi2IIEJxTz"
      },
      "source": [
        "## CONTEXTO\n",
        "-- Los bancos, como intermediarios financieros, prestan dinero a quienes cumplen con los requisitos establecidos. Sin embargo, cuando llega el momento, una parte de los prestatarios incumplen con sus obligaciones y se atrasan en los pagos. Para el mes de julio del presente año, la morosidad en el sistema financiero peruano se ubicó en 4.04%, en las Mypes fue de 8.07% y en las Cajas Rurales fue de 11.25% (RPP Noticias, 05 de julio de 2021). Según Jorge C. (Diario La República, 09 de febrero de 2020), profesor de la Pacífico Business School, comenta que una de las posibles causas es que la gente aglomera gastos […] pequeños e inconscientes a través de las líneas de crédito asignadas a sus trajetas (tasa promedio anual de 46%, y en retiro de efectivo es de 120% anual). La forma en que los bancos evalúan la posibilidad o no de un crédito es a través del Score de calificación crediticia del cliente. Un score mayor significa un perfil crediticio mejor. Otra forma de evaluación es por medio del nivel de ahorro, y este va de cero a doce, significando este último un 'alto nivel de ahorros'. El atraso histórico (en número de días) también juega un rol importante, así como la calificación absoluta del cliente como 'pagador al día' u 'cliente moroso'. De otro lado, la SBS también clasifica el riesgo de cada crédito: 'cero' es normal, y el nivel 'cuatro' es pérdida. Sin embargo ¿Cómo afectaría la morosidad al banco? \"Un incremento en la morosidad aumenta el nivel de riesgo, por tanto crecen las provisiones solicitadas por el regulador (dinero inmovilizado, y que no puede ser prestado). Esta es una forma de afectación, como a la rentabilidad de la entidad financiera, por ejemplo\" (Conexión Esan, 13 de diciembre de 2016). Viendo desde el punto de vista del banco, la pregunta sería ¿Qué insights podemos hallar en los datos históricos que nos permitan tomar mejores decisiones antes de efectuar los préstamos? Es así que este trabajo pretende hallar dichos insights, considerados aún invisibles, y relacionados a la morosidad bancaria peruana a través de la formulación de preguntas sencillas. La revisión, limpieza, transformación y modelación de datos servirán de apoyo en la búsqueda de conclusiones, y la guía en la toma de decisiones.\n",
        "\n",
        "DOI, APA:\n",
        "\n",
        "Luis Humberto Calderon Baldeón. (2021). BankDefaultAnalysis [Data set]. Kaggle.\n",
        "\n",
        "https://doi.org/10.34740/KAGGLE/DSV/2528417\n",
        "\n"
      ]
    },
    {
      "cell_type": "markdown",
      "metadata": {
        "id": "Aee9ZXjtK_lT"
      },
      "source": [
        "### DESCRIPCIÓN DE LA DATA\n",
        "\n",
        "* 1\t**Mora Morosidad del cliente:** {0: paga al día, 1: cliente moroso}\n",
        "* 2\t**Atraso** Atraso histórico del cliente en días.\n",
        "* 3\t**Vivienda** Tipo de vivienda del cliente.\n",
        "* 4\t**Edad** Edad del cliente.\n",
        "* 5\t**Días_lab** Días laborados en su actual empleo.\n",
        "* 6\t**Exp_sf** Meses con experiencia en el sistema financiero, es decir el número de meses que tiene el cliente desde que adquirió algún producto financiero.\n",
        "* 7\t**Nivel_ahorro** Índice del nivel de ahorro del cliente: {0: no tiene ahorros, 12: alto nivel de ahorros}\n",
        "* 8\t**Ingreso**\tIngresos del cliente.\n",
        "* 9\t**Línea_sf** Línea de crédito en el sistema financiero que el cliente tiene disponible.\n",
        "* 10 **Deuda_sf** Deuda del cliente en el sistema financiero.\n",
        "* 11 **Score** Calificación crediticia del cliente. Mientras mayor es el score, mejor perfil crediticio tiene el cliente.\n",
        "* 12 **Zona** Departamento de residencia del cliente.\n",
        "* 13 **Clasif_sbs** Clasificación SBS. Mientras mayor es el número, peor clasificación tiene el cliente: {0: normal, 1: con problemas potenciales, 2: deficiente, 3: dudoso, * 4: pérdida}\n",
        "* 14 **Nivel_educ**\tNivel educativo máximo alcanzado por el cliente.\n",
        "\n"
      ]
    },
    {
      "cell_type": "markdown",
      "metadata": {
        "id": "HpjPYIF0LVOa"
      },
      "source": [
        "## METODOLOGÍA UTILIZADA EN EL PROYECTO DE CIENCIA DE DATOS\n",
        "## NOMBRE: CRISP-DM\n",
        "* FASE 1: Comprensión del Negocio: objetivos especificos de la fase\n",
        "* FASE 2: Comprensión de los datos: objetivos especificos de la fase\n",
        "* FASE 3: Preparación de los datos: objetivos especificos de la fase\n",
        "* FASE 4: Modelado: objetivos especificos de la fase\n",
        "* FASE 5: Evaluación del modelo: objetivos especificos de la fase\n",
        "* FASE 6: Despliegue: objetivos especificos de la fase"
      ]
    },
    {
      "cell_type": "markdown",
      "metadata": {
        "id": "LRB0b8XLMB8L"
      },
      "source": [
        "# FASE 1: Comprensión del Negocio"
      ]
    },
    {
      "cell_type": "code",
      "execution_count": 1,
      "metadata": {
        "id": "EkhkqYwnJEKe"
      },
      "outputs": [],
      "source": [
        "# Carga de librerias\n",
        "import pandas as pd\n",
        "import matplotlib.pyplot as plt\n",
        "import numpy as np"
      ]
    },
    {
      "cell_type": "code",
      "execution_count": 2,
      "metadata": {
        "colab": {
          "base_uri": "https://localhost:8080/"
        },
        "id": "QPtV3k3ihlnh",
        "outputId": "73d05c41-54ab-43de-bc4b-79491ee3d0a4"
      },
      "outputs": [],
      "source": [
        "#Carga Dataset\n",
        "df = pd.read_csv('data.csv', sep=\",\")"
      ]
    },
    {
      "cell_type": "code",
      "execution_count": 3,
      "metadata": {
        "colab": {
          "base_uri": "https://localhost:8080/",
          "height": 505
        },
        "id": "rO6BggaQhw0c",
        "outputId": "677ea84b-d167-4473-d70b-74e169e0e26a"
      },
      "outputs": [
        {
          "data": {
            "text/html": [
              "<div>\n",
              "<style scoped>\n",
              "    .dataframe tbody tr th:only-of-type {\n",
              "        vertical-align: middle;\n",
              "    }\n",
              "\n",
              "    .dataframe tbody tr th {\n",
              "        vertical-align: top;\n",
              "    }\n",
              "\n",
              "    .dataframe thead th {\n",
              "        text-align: right;\n",
              "    }\n",
              "</style>\n",
              "<table border=\"1\" class=\"dataframe\">\n",
              "  <thead>\n",
              "    <tr style=\"text-align: right;\">\n",
              "      <th></th>\n",
              "      <th>mora</th>\n",
              "      <th>atraso</th>\n",
              "      <th>vivienda</th>\n",
              "      <th>edad</th>\n",
              "      <th>dias_lab</th>\n",
              "      <th>exp_sf</th>\n",
              "      <th>nivel_ahorro</th>\n",
              "      <th>ingreso</th>\n",
              "      <th>linea_sf</th>\n",
              "      <th>deuda_sf</th>\n",
              "      <th>score</th>\n",
              "      <th>zona</th>\n",
              "      <th>clasif_sbs</th>\n",
              "      <th>nivel_educ</th>\n",
              "    </tr>\n",
              "  </thead>\n",
              "  <tbody>\n",
              "    <tr>\n",
              "      <th>0</th>\n",
              "      <td>0</td>\n",
              "      <td>235</td>\n",
              "      <td>FAMILIAR</td>\n",
              "      <td>30</td>\n",
              "      <td>3748</td>\n",
              "      <td>93.0</td>\n",
              "      <td>5</td>\n",
              "      <td>3500.0</td>\n",
              "      <td>NaN</td>\n",
              "      <td>0.00</td>\n",
              "      <td>214</td>\n",
              "      <td>Lima</td>\n",
              "      <td>4</td>\n",
              "      <td>UNIVERSITARIA</td>\n",
              "    </tr>\n",
              "    <tr>\n",
              "      <th>1</th>\n",
              "      <td>0</td>\n",
              "      <td>18</td>\n",
              "      <td>FAMILIAR</td>\n",
              "      <td>32</td>\n",
              "      <td>4598</td>\n",
              "      <td>9.0</td>\n",
              "      <td>12</td>\n",
              "      <td>900.0</td>\n",
              "      <td>1824.67</td>\n",
              "      <td>1933.75</td>\n",
              "      <td>175</td>\n",
              "      <td>La Libertad</td>\n",
              "      <td>1</td>\n",
              "      <td>TECNICA</td>\n",
              "    </tr>\n",
              "    <tr>\n",
              "      <th>2</th>\n",
              "      <td>0</td>\n",
              "      <td>0</td>\n",
              "      <td>FAMILIAR</td>\n",
              "      <td>26</td>\n",
              "      <td>5148</td>\n",
              "      <td>8.0</td>\n",
              "      <td>2</td>\n",
              "      <td>2400.0</td>\n",
              "      <td>2797.38</td>\n",
              "      <td>188.29</td>\n",
              "      <td>187</td>\n",
              "      <td>Lima</td>\n",
              "      <td>0</td>\n",
              "      <td>UNIVERSITARIA</td>\n",
              "    </tr>\n",
              "    <tr>\n",
              "      <th>3</th>\n",
              "      <td>0</td>\n",
              "      <td>0</td>\n",
              "      <td>FAMILIAR</td>\n",
              "      <td>36</td>\n",
              "      <td>5179</td>\n",
              "      <td>20.0</td>\n",
              "      <td>12</td>\n",
              "      <td>2700.0</td>\n",
              "      <td>NaN</td>\n",
              "      <td>0.00</td>\n",
              "      <td>187</td>\n",
              "      <td>Ancash</td>\n",
              "      <td>0</td>\n",
              "      <td>TECNICA</td>\n",
              "    </tr>\n",
              "    <tr>\n",
              "      <th>4</th>\n",
              "      <td>0</td>\n",
              "      <td>0</td>\n",
              "      <td>FAMILIAR</td>\n",
              "      <td>46</td>\n",
              "      <td>3960</td>\n",
              "      <td>NaN</td>\n",
              "      <td>1</td>\n",
              "      <td>3100.0</td>\n",
              "      <td>2000.00</td>\n",
              "      <td>11010.65</td>\n",
              "      <td>189</td>\n",
              "      <td>Lima</td>\n",
              "      <td>0</td>\n",
              "      <td>TECNICA</td>\n",
              "    </tr>\n",
              "    <tr>\n",
              "      <th>...</th>\n",
              "      <td>...</td>\n",
              "      <td>...</td>\n",
              "      <td>...</td>\n",
              "      <td>...</td>\n",
              "      <td>...</td>\n",
              "      <td>...</td>\n",
              "      <td>...</td>\n",
              "      <td>...</td>\n",
              "      <td>...</td>\n",
              "      <td>...</td>\n",
              "      <td>...</td>\n",
              "      <td>...</td>\n",
              "      <td>...</td>\n",
              "      <td>...</td>\n",
              "    </tr>\n",
              "    <tr>\n",
              "      <th>245</th>\n",
              "      <td>0</td>\n",
              "      <td>2</td>\n",
              "      <td>FAMILIAR</td>\n",
              "      <td>47</td>\n",
              "      <td>4264</td>\n",
              "      <td>NaN</td>\n",
              "      <td>12</td>\n",
              "      <td>3500.0</td>\n",
              "      <td>17100.00</td>\n",
              "      <td>9741.64</td>\n",
              "      <td>180</td>\n",
              "      <td>Lambayeque</td>\n",
              "      <td>0</td>\n",
              "      <td>UNIVERSITARIA</td>\n",
              "    </tr>\n",
              "    <tr>\n",
              "      <th>246</th>\n",
              "      <td>0</td>\n",
              "      <td>50</td>\n",
              "      <td>FAMILIAR</td>\n",
              "      <td>23</td>\n",
              "      <td>4904</td>\n",
              "      <td>47.0</td>\n",
              "      <td>12</td>\n",
              "      <td>710.0</td>\n",
              "      <td>500.00</td>\n",
              "      <td>484.30</td>\n",
              "      <td>154</td>\n",
              "      <td>Lima</td>\n",
              "      <td>4</td>\n",
              "      <td>TECNICA</td>\n",
              "    </tr>\n",
              "    <tr>\n",
              "      <th>247</th>\n",
              "      <td>0</td>\n",
              "      <td>0</td>\n",
              "      <td>FAMILIAR</td>\n",
              "      <td>31</td>\n",
              "      <td>6425</td>\n",
              "      <td>68.0</td>\n",
              "      <td>12</td>\n",
              "      <td>6600.0</td>\n",
              "      <td>14638.48</td>\n",
              "      <td>2426.45</td>\n",
              "      <td>219</td>\n",
              "      <td>Lima</td>\n",
              "      <td>3</td>\n",
              "      <td>UNIVERSITARIA</td>\n",
              "    </tr>\n",
              "    <tr>\n",
              "      <th>248</th>\n",
              "      <td>0</td>\n",
              "      <td>0</td>\n",
              "      <td>PROPIA</td>\n",
              "      <td>49</td>\n",
              "      <td>8404</td>\n",
              "      <td>9.0</td>\n",
              "      <td>10</td>\n",
              "      <td>2000.0</td>\n",
              "      <td>16842.18</td>\n",
              "      <td>3229.93</td>\n",
              "      <td>235</td>\n",
              "      <td>Lima</td>\n",
              "      <td>0</td>\n",
              "      <td>TECNICA</td>\n",
              "    </tr>\n",
              "    <tr>\n",
              "      <th>249</th>\n",
              "      <td>0</td>\n",
              "      <td>0</td>\n",
              "      <td>FAMILIAR</td>\n",
              "      <td>37</td>\n",
              "      <td>6943</td>\n",
              "      <td>NaN</td>\n",
              "      <td>12</td>\n",
              "      <td>1000.0</td>\n",
              "      <td>606.20</td>\n",
              "      <td>914.72</td>\n",
              "      <td>179</td>\n",
              "      <td>Piura</td>\n",
              "      <td>0</td>\n",
              "      <td>TECNICA</td>\n",
              "    </tr>\n",
              "  </tbody>\n",
              "</table>\n",
              "<p>250 rows × 14 columns</p>\n",
              "</div>"
            ],
            "text/plain": [
              "     mora  atraso  vivienda  edad  dias_lab  exp_sf  nivel_ahorro  ingreso  \\\n",
              "0       0     235  FAMILIAR    30      3748    93.0             5   3500.0   \n",
              "1       0      18  FAMILIAR    32      4598     9.0            12    900.0   \n",
              "2       0       0  FAMILIAR    26      5148     8.0             2   2400.0   \n",
              "3       0       0  FAMILIAR    36      5179    20.0            12   2700.0   \n",
              "4       0       0  FAMILIAR    46      3960     NaN             1   3100.0   \n",
              "..    ...     ...       ...   ...       ...     ...           ...      ...   \n",
              "245     0       2  FAMILIAR    47      4264     NaN            12   3500.0   \n",
              "246     0      50  FAMILIAR    23      4904    47.0            12    710.0   \n",
              "247     0       0  FAMILIAR    31      6425    68.0            12   6600.0   \n",
              "248     0       0    PROPIA    49      8404     9.0            10   2000.0   \n",
              "249     0       0  FAMILIAR    37      6943     NaN            12   1000.0   \n",
              "\n",
              "     linea_sf  deuda_sf  score         zona  clasif_sbs     nivel_educ  \n",
              "0         NaN      0.00    214         Lima           4  UNIVERSITARIA  \n",
              "1     1824.67   1933.75    175  La Libertad           1        TECNICA  \n",
              "2     2797.38    188.29    187         Lima           0  UNIVERSITARIA  \n",
              "3         NaN      0.00    187       Ancash           0        TECNICA  \n",
              "4     2000.00  11010.65    189         Lima           0        TECNICA  \n",
              "..        ...       ...    ...          ...         ...            ...  \n",
              "245  17100.00   9741.64    180   Lambayeque           0  UNIVERSITARIA  \n",
              "246    500.00    484.30    154         Lima           4        TECNICA  \n",
              "247  14638.48   2426.45    219         Lima           3  UNIVERSITARIA  \n",
              "248  16842.18   3229.93    235         Lima           0        TECNICA  \n",
              "249    606.20    914.72    179        Piura           0        TECNICA  \n",
              "\n",
              "[250 rows x 14 columns]"
            ]
          },
          "execution_count": 3,
          "metadata": {},
          "output_type": "execute_result"
        }
      ],
      "source": [
        "df.head(250)"
      ]
    },
    {
      "cell_type": "code",
      "execution_count": 4,
      "metadata": {
        "colab": {
          "base_uri": "https://localhost:8080/"
        },
        "id": "5U5RgacR23Ne",
        "outputId": "0a539e8f-8f91-45b5-875e-604ea4ba0982"
      },
      "outputs": [
        {
          "data": {
            "text/plain": [
              "mora              int64\n",
              "atraso            int64\n",
              "vivienda         object\n",
              "edad              int64\n",
              "dias_lab          int64\n",
              "exp_sf          float64\n",
              "nivel_ahorro      int64\n",
              "ingreso         float64\n",
              "linea_sf        float64\n",
              "deuda_sf        float64\n",
              "score             int64\n",
              "zona             object\n",
              "clasif_sbs        int64\n",
              "nivel_educ       object\n",
              "dtype: object"
            ]
          },
          "execution_count": 4,
          "metadata": {},
          "output_type": "execute_result"
        }
      ],
      "source": [
        "#Visualizar columnas y sus tipos de datos\n",
        "df.dtypes"
      ]
    },
    {
      "cell_type": "markdown",
      "metadata": {
        "id": "bMRAfVajMGjD"
      },
      "source": [
        "# FASE 2: Comprensión de los datos"
      ]
    },
    {
      "cell_type": "code",
      "execution_count": 5,
      "metadata": {
        "colab": {
          "base_uri": "https://localhost:8080/"
        },
        "id": "p-CW3hWB2oFR",
        "outputId": "d206c492-1c73-4ee2-f0ee-d1cf2e98f841"
      },
      "outputs": [
        {
          "data": {
            "text/plain": [
              "mora              int64\n",
              "atraso            int64\n",
              "vivienda         object\n",
              "edad              int64\n",
              "dias_lab          int64\n",
              "exp_sf          float64\n",
              "nivel_ahorro      int64\n",
              "ingreso         float64\n",
              "linea_sf        float64\n",
              "deuda_sf        float64\n",
              "score             int64\n",
              "zona             object\n",
              "clasif_sbs        int64\n",
              "nivel_educ       object\n",
              "dtype: object"
            ]
          },
          "execution_count": 5,
          "metadata": {},
          "output_type": "execute_result"
        }
      ],
      "source": [
        "df.dtypes"
      ]
    },
    {
      "cell_type": "markdown",
      "metadata": {
        "id": "ue8nKHLVMPUD"
      },
      "source": [
        "# FASE 3: Preparación de los datos"
      ]
    },
    {
      "cell_type": "code",
      "execution_count": null,
      "metadata": {
        "id": "PaT0RylLMSZq"
      },
      "outputs": [],
      "source": []
    },
    {
      "cell_type": "markdown",
      "metadata": {
        "id": "-zFRKnm8MV06"
      },
      "source": [
        "# FASE 4: Modelado"
      ]
    },
    {
      "cell_type": "code",
      "execution_count": null,
      "metadata": {
        "id": "bPPKZYWyMaA6"
      },
      "outputs": [],
      "source": []
    },
    {
      "cell_type": "markdown",
      "metadata": {
        "id": "_Oqg2uWSMTDy"
      },
      "source": [
        "# FASE 5: Evaluación del modelo"
      ]
    },
    {
      "cell_type": "code",
      "execution_count": null,
      "metadata": {
        "id": "n_nc_8H_MW0K"
      },
      "outputs": [],
      "source": []
    },
    {
      "cell_type": "markdown",
      "metadata": {
        "id": "coUS2ik1Mklq"
      },
      "source": [
        "# FASE 6: Despliegue"
      ]
    },
    {
      "cell_type": "code",
      "execution_count": null,
      "metadata": {
        "id": "x310muphMqEj"
      },
      "outputs": [],
      "source": []
    }
  ],
  "metadata": {
    "colab": {
      "provenance": [],
      "toc_visible": true
    },
    "kernelspec": {
      "display_name": "Python 3",
      "name": "python3"
    },
    "language_info": {
      "codemirror_mode": {
        "name": "ipython",
        "version": 3
      },
      "file_extension": ".py",
      "mimetype": "text/x-python",
      "name": "python",
      "nbconvert_exporter": "python",
      "pygments_lexer": "ipython3",
      "version": "3.12.5"
    }
  },
  "nbformat": 4,
  "nbformat_minor": 0
}
