{
 "cells": [
  {
   "cell_type": "code",
   "execution_count": 3,
   "metadata": {},
   "outputs": [],
   "source": [
    "import pandas as pd\n",
    "import numpy as np\n",
    "\n",
    "df = pd.read_csv('data.csv')"
   ]
  },
  {
   "cell_type": "code",
   "execution_count": 4,
   "metadata": {},
   "outputs": [
    {
     "name": "stdout",
     "output_type": "stream",
     "text": [
      "Primeras filas del dataset:\n",
      "   mora  atraso  vivienda  edad  dias_lab  exp_sf  nivel_ahorro  ingreso  \\\n",
      "0     0     235  FAMILIAR    30      3748    93.0             5   3500.0   \n",
      "1     0      18  FAMILIAR    32      4598     9.0            12    900.0   \n",
      "2     0       0  FAMILIAR    26      5148     8.0             2   2400.0   \n",
      "3     0       0  FAMILIAR    36      5179    20.0            12   2700.0   \n",
      "4     0       0  FAMILIAR    46      3960     NaN             1   3100.0   \n",
      "\n",
      "   linea_sf  deuda_sf  score         zona  clasif_sbs     nivel_educ  \n",
      "0       NaN      0.00    214         Lima           4  UNIVERSITARIA  \n",
      "1   1824.67   1933.75    175  La Libertad           1        TECNICA  \n",
      "2   2797.38    188.29    187         Lima           0  UNIVERSITARIA  \n",
      "3       NaN      0.00    187       Ancash           0        TECNICA  \n",
      "4   2000.00  11010.65    189         Lima           0        TECNICA  \n",
      "\n",
      "Información del dataset:\n",
      "<class 'pandas.core.frame.DataFrame'>\n",
      "RangeIndex: 8399 entries, 0 to 8398\n",
      "Data columns (total 14 columns):\n",
      " #   Column        Non-Null Count  Dtype  \n",
      "---  ------        --------------  -----  \n",
      " 0   mora          8399 non-null   int64  \n",
      " 1   atraso        8399 non-null   int64  \n",
      " 2   vivienda      8399 non-null   object \n",
      " 3   edad          8399 non-null   int64  \n",
      " 4   dias_lab      8399 non-null   int64  \n",
      " 5   exp_sf        6569 non-null   float64\n",
      " 6   nivel_ahorro  8399 non-null   int64  \n",
      " 7   ingreso       8399 non-null   float64\n",
      " 8   linea_sf      7272 non-null   float64\n",
      " 9   deuda_sf      7938 non-null   float64\n",
      " 10  score         8399 non-null   int64  \n",
      " 11  zona          8399 non-null   object \n",
      " 12  clasif_sbs    8399 non-null   int64  \n",
      " 13  nivel_educ    8399 non-null   object \n",
      "dtypes: float64(4), int64(7), object(3)\n",
      "memory usage: 918.8+ KB\n",
      "None\n",
      "\n",
      "Descripción estadística:\n",
      "              mora      atraso         edad      dias_lab       exp_sf  \\\n",
      "count  8399.000000  8399.00000  8399.000000   8399.000000  6569.000000   \n",
      "mean      0.704251     4.46315    36.399095   5555.888796    32.401583   \n",
      "std       0.456406    14.27084     9.825764   2153.244140    32.866232   \n",
      "min       0.000000     0.00000    20.000000   2956.000000     0.000000   \n",
      "25%       0.000000     0.00000    29.000000   4174.000000     7.000000   \n",
      "50%       1.000000     0.00000    34.000000   4904.000000    20.000000   \n",
      "75%       1.000000     2.00000    42.000000   6182.000000    51.000000   \n",
      "max       1.000000   245.00000    85.000000  20700.000000   130.000000   \n",
      "\n",
      "       nivel_ahorro       ingreso       linea_sf      deuda_sf        score  \\\n",
      "count   8399.000000   8399.000000    7272.000000   7938.000000  8399.000000   \n",
      "mean      10.593166   4350.406997   11987.241038   6110.724308   196.619955   \n",
      "std        3.374619   5367.058953   21322.801655  11177.989799    19.544348   \n",
      "min        0.000000    123.700000       0.000000      0.000000   134.000000   \n",
      "25%       12.000000   1366.670000    1169.372500    478.320000   182.000000   \n",
      "50%       12.000000   2400.000000    4030.120000   2258.755000   197.000000   \n",
      "75%       12.000000   4900.000000   12086.627500   5755.150000   212.000000   \n",
      "max       12.000000  30000.000000  121543.400000  57094.380000   266.000000   \n",
      "\n",
      "        clasif_sbs  \n",
      "count  8399.000000  \n",
      "mean      0.563519  \n",
      "std       0.905637  \n",
      "min       0.000000  \n",
      "25%       0.000000  \n",
      "50%       0.000000  \n",
      "75%       1.000000  \n",
      "max       4.000000  \n",
      "\n",
      "Valores nulos por columna:\n",
      "mora               0\n",
      "atraso             0\n",
      "vivienda           0\n",
      "edad               0\n",
      "dias_lab           0\n",
      "exp_sf          1830\n",
      "nivel_ahorro       0\n",
      "ingreso            0\n",
      "linea_sf        1127\n",
      "deuda_sf         461\n",
      "score              0\n",
      "zona               0\n",
      "clasif_sbs         0\n",
      "nivel_educ         0\n",
      "dtype: int64\n"
     ]
    }
   ],
   "source": [
    "# Mostrar las primeras filas del dataset\n",
    "print(\"Primeras filas del dataset:\")\n",
    "print(df.head())\n",
    "\n",
    "# Mostrar información general del dataset\n",
    "print(\"\\nInformación del dataset:\")\n",
    "print(df.info())\n",
    "\n",
    "# Descripción estadística básica del dataset\n",
    "print(\"\\nDescripción estadística:\")\n",
    "print(df.describe())\n",
    "\n",
    "# Verificar si hay valores nulos en el dataset\n",
    "print(\"\\nValores nulos por columna:\")\n",
    "print(df.isnull().sum())"
   ]
  },
  {
   "cell_type": "code",
   "execution_count": 5,
   "metadata": {},
   "outputs": [
    {
     "name": "stdout",
     "output_type": "stream",
     "text": [
      "\n",
      "Valores nulos por columna:\n",
      "mora               0\n",
      "atraso             0\n",
      "vivienda           0\n",
      "edad               0\n",
      "dias_lab           0\n",
      "exp_sf          1830\n",
      "nivel_ahorro       0\n",
      "ingreso            0\n",
      "linea_sf        1127\n",
      "deuda_sf         461\n",
      "score              0\n",
      "zona               0\n",
      "clasif_sbs         0\n",
      "nivel_educ         0\n",
      "dtype: int64\n"
     ]
    }
   ],
   "source": [
    "print(\"\\nValores nulos por columna:\")\n",
    "print(df.isnull().sum())"
   ]
  }
 ],
 "metadata": {
  "kernelspec": {
   "display_name": "Python 3",
   "language": "python",
   "name": "python3"
  },
  "language_info": {
   "codemirror_mode": {
    "name": "ipython",
    "version": 3
   },
   "file_extension": ".py",
   "mimetype": "text/x-python",
   "name": "python",
   "nbconvert_exporter": "python",
   "pygments_lexer": "ipython3",
   "version": "3.12.5"
  }
 },
 "nbformat": 4,
 "nbformat_minor": 2
}
